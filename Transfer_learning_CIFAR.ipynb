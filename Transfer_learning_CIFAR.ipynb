{
  "nbformat": 4,
  "nbformat_minor": 0,
  "metadata": {
    "colab": {
      "name": "Transfer_learning_CIFAR.ipynb",
      "version": "0.3.2",
      "provenance": [],
      "collapsed_sections": []
    },
    "kernelspec": {
      "name": "python3",
      "display_name": "Python 3"
    },
    "accelerator": "GPU"
  },
  "cells": [
    {
      "metadata": {
        "id": "m4Kh8ydjx6nv",
        "colab_type": "text"
      },
      "cell_type": "markdown",
      "source": [
        "**IMPORTINGTHE REQUIRED PACKAGES**\n"
      ]
    },
    {
      "metadata": {
        "id": "oI7gCcTmg0dx",
        "colab_type": "code",
        "outputId": "72e7f0d0-637a-4916-9cde-a10d7fef86bc",
        "colab": {
          "base_uri": "https://localhost:8080/",
          "height": 35
        }
      },
      "cell_type": "code",
      "source": [
        "import numpy as np\n",
        "from keras.datasets import cifar10\n",
        "import cv2\n",
        "import keras as k\n",
        "from keras import models\n",
        "from matplotlib import pyplot as p\n",
        "from keras.preprocessing.image import ImageDataGenerator\n",
        "from keras.models import Sequential,Model\n",
        "from keras import optimizers\n",
        "from keras.layers import LeakyReLU\n",
        "from keras.layers import Dense, Dropout, Activation, Flatten,BatchNormalization\n",
        "from keras.layers import Conv2D, MaxPooling2D,GlobalAveragePooling2D\n",
        "from keras.applications.xception import Xception\n",
        "from keras.applications import VGG16\n",
        "import pandas as pd\n"
      ],
      "execution_count": 0,
      "outputs": [
        {
          "output_type": "stream",
          "text": [
            "Using TensorFlow backend.\n"
          ],
          "name": "stderr"
        }
      ]
    },
    {
      "metadata": {
        "id": "pewFOwNTyFyt",
        "colab_type": "text"
      },
      "cell_type": "markdown",
      "source": [
        "**LOADING REQUIRED DATA**"
      ]
    },
    {
      "metadata": {
        "id": "TtKAB2J5igqO",
        "colab_type": "code",
        "outputId": "e0bb7c02-259c-4b9a-8ccb-7cbd68afa628",
        "colab": {
          "base_uri": "https://localhost:8080/",
          "height": 52
        }
      },
      "cell_type": "code",
      "source": [
        "\n",
        "(x_train, y_train), (x_test, y_test) = cifar10.load_data()\n",
        "\n",
        "data_train = np.zeros((50000, 71,71,3))\n",
        "data_test = np.zeros((10000,71,71,3))\n",
        "\n"
      ],
      "execution_count": 0,
      "outputs": [
        {
          "output_type": "stream",
          "text": [
            "Downloading data from https://www.cs.toronto.edu/~kriz/cifar-10-python.tar.gz\n",
            "170500096/170498071 [==============================] - 33s 0us/step\n"
          ],
          "name": "stdout"
        }
      ]
    },
    {
      "metadata": {
        "id": "RZz83IS1yMw7",
        "colab_type": "text"
      },
      "cell_type": "markdown",
      "source": [
        "**RESIZING DATA AS PER REQUIREMENTS OF THE XCEPTION MODULE**"
      ]
    },
    {
      "metadata": {
        "id": "LwUUtaiCimuV",
        "colab_type": "code",
        "colab": {}
      },
      "cell_type": "code",
      "source": [
        "\n",
        "for i, img in enumerate(x_train):\n",
        "\n",
        "    im = np.transpose(img, (1,0,2))\n",
        "\n",
        "    large_img = cv2.resize(im, dsize=(71,71),interpolation =cv2.INTER_CUBIC)\n",
        "\n",
        "    data_train[i] = np.transpose(large_img, (1,0,2))\n",
        "\n",
        "\n",
        "\n",
        "for i, img in enumerate(x_test):\n",
        "\n",
        "    im = np.transpose(img, (1,0,2))\n",
        "\n",
        "    large_img = cv2.resize(im, dsize=(71,71),interpolation =cv2.INTER_CUBIC)\n",
        "\n",
        "    data_test[i] = np.transpose(large_img, (1,0,2))\n"
      ],
      "execution_count": 0,
      "outputs": []
    },
    {
      "metadata": {
        "id": "B0evvt16yi2b",
        "colab_type": "text"
      },
      "cell_type": "markdown",
      "source": [
        "**DATA PREPROCESSING**"
      ]
    },
    {
      "metadata": {
        "id": "5d3KhVB6iprm",
        "colab_type": "code",
        "outputId": "bbc4fe4b-aef8-4b62-b88b-6554f8926c36",
        "colab": {
          "base_uri": "https://localhost:8080/",
          "height": 52
        }
      },
      "cell_type": "code",
      "source": [
        "\n",
        "# Data Preprocessing\n",
        "y_train = k.utils.to_categorical(y_train, 10)\n",
        "y_test = k.utils.to_categorical(y_test, 10)\n",
        "\n",
        "# pixel values range from 0 to 255 - normalize\n",
        "data_train = data_train.astype('float32')\n",
        "data_test = data_test.astype('float32')\n",
        "\n",
        "print(data_train.shape)\n",
        "print(data_test.shape)\n"
      ],
      "execution_count": 0,
      "outputs": [
        {
          "output_type": "stream",
          "text": [
            "(50000, 71, 71, 3)\n",
            "(10000, 71, 71, 3)\n"
          ],
          "name": "stdout"
        }
      ]
    },
    {
      "metadata": {
        "id": "HKbbTzutyl4J",
        "colab_type": "text"
      },
      "cell_type": "markdown",
      "source": [
        "**USING PRETRAINED MODEL AS BASE MODEL**\n",
        "\n",
        "\n",
        "*   Pretrained Model: Xception Network\n",
        "\n"
      ]
    },
    {
      "metadata": {
        "id": "3p1w3iuLiw3H",
        "colab_type": "code",
        "outputId": "ac652e15-a62b-44b8-8a95-3bbaf3d76c52",
        "colab": {
          "base_uri": "https://localhost:8080/",
          "height": 5157
        }
      },
      "cell_type": "code",
      "source": [
        "nTrain = 10000\n",
        "#datagen = ImageGenerator(rescale=1.0/255)\n",
        "#train_features  = np.zeros()\n",
        "base_model = Xception(weights='imagenet',include_top= False ,input_shape=(71,71,3))\n",
        "# Model structure\n",
        "base_model.summary()\n"
      ],
      "execution_count": 0,
      "outputs": [
        {
          "output_type": "stream",
          "text": [
            "WARNING:tensorflow:From /usr/local/lib/python3.6/dist-packages/tensorflow/python/framework/op_def_library.py:263: colocate_with (from tensorflow.python.framework.ops) is deprecated and will be removed in a future version.\n",
            "Instructions for updating:\n",
            "Colocations handled automatically by placer.\n",
            "Downloading data from https://github.com/fchollet/deep-learning-models/releases/download/v0.4/xception_weights_tf_dim_ordering_tf_kernels_notop.h5\n",
            "83689472/83683744 [==============================] - 3s 0us/step\n",
            "__________________________________________________________________________________________________\n",
            "Layer (type)                    Output Shape         Param #     Connected to                     \n",
            "==================================================================================================\n",
            "input_1 (InputLayer)            (None, 71, 71, 3)    0                                            \n",
            "__________________________________________________________________________________________________\n",
            "block1_conv1 (Conv2D)           (None, 35, 35, 32)   864         input_1[0][0]                    \n",
            "__________________________________________________________________________________________________\n",
            "block1_conv1_bn (BatchNormaliza (None, 35, 35, 32)   128         block1_conv1[0][0]               \n",
            "__________________________________________________________________________________________________\n",
            "block1_conv1_act (Activation)   (None, 35, 35, 32)   0           block1_conv1_bn[0][0]            \n",
            "__________________________________________________________________________________________________\n",
            "block1_conv2 (Conv2D)           (None, 33, 33, 64)   18432       block1_conv1_act[0][0]           \n",
            "__________________________________________________________________________________________________\n",
            "block1_conv2_bn (BatchNormaliza (None, 33, 33, 64)   256         block1_conv2[0][0]               \n",
            "__________________________________________________________________________________________________\n",
            "block1_conv2_act (Activation)   (None, 33, 33, 64)   0           block1_conv2_bn[0][0]            \n",
            "__________________________________________________________________________________________________\n",
            "block2_sepconv1 (SeparableConv2 (None, 33, 33, 128)  8768        block1_conv2_act[0][0]           \n",
            "__________________________________________________________________________________________________\n",
            "block2_sepconv1_bn (BatchNormal (None, 33, 33, 128)  512         block2_sepconv1[0][0]            \n",
            "__________________________________________________________________________________________________\n",
            "block2_sepconv2_act (Activation (None, 33, 33, 128)  0           block2_sepconv1_bn[0][0]         \n",
            "__________________________________________________________________________________________________\n",
            "block2_sepconv2 (SeparableConv2 (None, 33, 33, 128)  17536       block2_sepconv2_act[0][0]        \n",
            "__________________________________________________________________________________________________\n",
            "block2_sepconv2_bn (BatchNormal (None, 33, 33, 128)  512         block2_sepconv2[0][0]            \n",
            "__________________________________________________________________________________________________\n",
            "conv2d_1 (Conv2D)               (None, 17, 17, 128)  8192        block1_conv2_act[0][0]           \n",
            "__________________________________________________________________________________________________\n",
            "block2_pool (MaxPooling2D)      (None, 17, 17, 128)  0           block2_sepconv2_bn[0][0]         \n",
            "__________________________________________________________________________________________________\n",
            "batch_normalization_1 (BatchNor (None, 17, 17, 128)  512         conv2d_1[0][0]                   \n",
            "__________________________________________________________________________________________________\n",
            "add_1 (Add)                     (None, 17, 17, 128)  0           block2_pool[0][0]                \n",
            "                                                                 batch_normalization_1[0][0]      \n",
            "__________________________________________________________________________________________________\n",
            "block3_sepconv1_act (Activation (None, 17, 17, 128)  0           add_1[0][0]                      \n",
            "__________________________________________________________________________________________________\n",
            "block3_sepconv1 (SeparableConv2 (None, 17, 17, 256)  33920       block3_sepconv1_act[0][0]        \n",
            "__________________________________________________________________________________________________\n",
            "block3_sepconv1_bn (BatchNormal (None, 17, 17, 256)  1024        block3_sepconv1[0][0]            \n",
            "__________________________________________________________________________________________________\n",
            "block3_sepconv2_act (Activation (None, 17, 17, 256)  0           block3_sepconv1_bn[0][0]         \n",
            "__________________________________________________________________________________________________\n",
            "block3_sepconv2 (SeparableConv2 (None, 17, 17, 256)  67840       block3_sepconv2_act[0][0]        \n",
            "__________________________________________________________________________________________________\n",
            "block3_sepconv2_bn (BatchNormal (None, 17, 17, 256)  1024        block3_sepconv2[0][0]            \n",
            "__________________________________________________________________________________________________\n",
            "conv2d_2 (Conv2D)               (None, 9, 9, 256)    32768       add_1[0][0]                      \n",
            "__________________________________________________________________________________________________\n",
            "block3_pool (MaxPooling2D)      (None, 9, 9, 256)    0           block3_sepconv2_bn[0][0]         \n",
            "__________________________________________________________________________________________________\n",
            "batch_normalization_2 (BatchNor (None, 9, 9, 256)    1024        conv2d_2[0][0]                   \n",
            "__________________________________________________________________________________________________\n",
            "add_2 (Add)                     (None, 9, 9, 256)    0           block3_pool[0][0]                \n",
            "                                                                 batch_normalization_2[0][0]      \n",
            "__________________________________________________________________________________________________\n",
            "block4_sepconv1_act (Activation (None, 9, 9, 256)    0           add_2[0][0]                      \n",
            "__________________________________________________________________________________________________\n",
            "block4_sepconv1 (SeparableConv2 (None, 9, 9, 728)    188672      block4_sepconv1_act[0][0]        \n",
            "__________________________________________________________________________________________________\n",
            "block4_sepconv1_bn (BatchNormal (None, 9, 9, 728)    2912        block4_sepconv1[0][0]            \n",
            "__________________________________________________________________________________________________\n",
            "block4_sepconv2_act (Activation (None, 9, 9, 728)    0           block4_sepconv1_bn[0][0]         \n",
            "__________________________________________________________________________________________________\n",
            "block4_sepconv2 (SeparableConv2 (None, 9, 9, 728)    536536      block4_sepconv2_act[0][0]        \n",
            "__________________________________________________________________________________________________\n",
            "block4_sepconv2_bn (BatchNormal (None, 9, 9, 728)    2912        block4_sepconv2[0][0]            \n",
            "__________________________________________________________________________________________________\n",
            "conv2d_3 (Conv2D)               (None, 5, 5, 728)    186368      add_2[0][0]                      \n",
            "__________________________________________________________________________________________________\n",
            "block4_pool (MaxPooling2D)      (None, 5, 5, 728)    0           block4_sepconv2_bn[0][0]         \n",
            "__________________________________________________________________________________________________\n",
            "batch_normalization_3 (BatchNor (None, 5, 5, 728)    2912        conv2d_3[0][0]                   \n",
            "__________________________________________________________________________________________________\n",
            "add_3 (Add)                     (None, 5, 5, 728)    0           block4_pool[0][0]                \n",
            "                                                                 batch_normalization_3[0][0]      \n",
            "__________________________________________________________________________________________________\n",
            "block5_sepconv1_act (Activation (None, 5, 5, 728)    0           add_3[0][0]                      \n",
            "__________________________________________________________________________________________________\n",
            "block5_sepconv1 (SeparableConv2 (None, 5, 5, 728)    536536      block5_sepconv1_act[0][0]        \n",
            "__________________________________________________________________________________________________\n",
            "block5_sepconv1_bn (BatchNormal (None, 5, 5, 728)    2912        block5_sepconv1[0][0]            \n",
            "__________________________________________________________________________________________________\n",
            "block5_sepconv2_act (Activation (None, 5, 5, 728)    0           block5_sepconv1_bn[0][0]         \n",
            "__________________________________________________________________________________________________\n",
            "block5_sepconv2 (SeparableConv2 (None, 5, 5, 728)    536536      block5_sepconv2_act[0][0]        \n",
            "__________________________________________________________________________________________________\n",
            "block5_sepconv2_bn (BatchNormal (None, 5, 5, 728)    2912        block5_sepconv2[0][0]            \n",
            "__________________________________________________________________________________________________\n",
            "block5_sepconv3_act (Activation (None, 5, 5, 728)    0           block5_sepconv2_bn[0][0]         \n",
            "__________________________________________________________________________________________________\n",
            "block5_sepconv3 (SeparableConv2 (None, 5, 5, 728)    536536      block5_sepconv3_act[0][0]        \n",
            "__________________________________________________________________________________________________\n",
            "block5_sepconv3_bn (BatchNormal (None, 5, 5, 728)    2912        block5_sepconv3[0][0]            \n",
            "__________________________________________________________________________________________________\n",
            "add_4 (Add)                     (None, 5, 5, 728)    0           block5_sepconv3_bn[0][0]         \n",
            "                                                                 add_3[0][0]                      \n",
            "__________________________________________________________________________________________________\n",
            "block6_sepconv1_act (Activation (None, 5, 5, 728)    0           add_4[0][0]                      \n",
            "__________________________________________________________________________________________________\n",
            "block6_sepconv1 (SeparableConv2 (None, 5, 5, 728)    536536      block6_sepconv1_act[0][0]        \n",
            "__________________________________________________________________________________________________\n",
            "block6_sepconv1_bn (BatchNormal (None, 5, 5, 728)    2912        block6_sepconv1[0][0]            \n",
            "__________________________________________________________________________________________________\n",
            "block6_sepconv2_act (Activation (None, 5, 5, 728)    0           block6_sepconv1_bn[0][0]         \n",
            "__________________________________________________________________________________________________\n",
            "block6_sepconv2 (SeparableConv2 (None, 5, 5, 728)    536536      block6_sepconv2_act[0][0]        \n",
            "__________________________________________________________________________________________________\n",
            "block6_sepconv2_bn (BatchNormal (None, 5, 5, 728)    2912        block6_sepconv2[0][0]            \n",
            "__________________________________________________________________________________________________\n",
            "block6_sepconv3_act (Activation (None, 5, 5, 728)    0           block6_sepconv2_bn[0][0]         \n",
            "__________________________________________________________________________________________________\n",
            "block6_sepconv3 (SeparableConv2 (None, 5, 5, 728)    536536      block6_sepconv3_act[0][0]        \n",
            "__________________________________________________________________________________________________\n",
            "block6_sepconv3_bn (BatchNormal (None, 5, 5, 728)    2912        block6_sepconv3[0][0]            \n",
            "__________________________________________________________________________________________________\n",
            "add_5 (Add)                     (None, 5, 5, 728)    0           block6_sepconv3_bn[0][0]         \n",
            "                                                                 add_4[0][0]                      \n",
            "__________________________________________________________________________________________________\n",
            "block7_sepconv1_act (Activation (None, 5, 5, 728)    0           add_5[0][0]                      \n",
            "__________________________________________________________________________________________________\n",
            "block7_sepconv1 (SeparableConv2 (None, 5, 5, 728)    536536      block7_sepconv1_act[0][0]        \n",
            "__________________________________________________________________________________________________\n",
            "block7_sepconv1_bn (BatchNormal (None, 5, 5, 728)    2912        block7_sepconv1[0][0]            \n",
            "__________________________________________________________________________________________________\n",
            "block7_sepconv2_act (Activation (None, 5, 5, 728)    0           block7_sepconv1_bn[0][0]         \n",
            "__________________________________________________________________________________________________\n",
            "block7_sepconv2 (SeparableConv2 (None, 5, 5, 728)    536536      block7_sepconv2_act[0][0]        \n",
            "__________________________________________________________________________________________________\n",
            "block7_sepconv2_bn (BatchNormal (None, 5, 5, 728)    2912        block7_sepconv2[0][0]            \n",
            "__________________________________________________________________________________________________\n",
            "block7_sepconv3_act (Activation (None, 5, 5, 728)    0           block7_sepconv2_bn[0][0]         \n",
            "__________________________________________________________________________________________________\n",
            "block7_sepconv3 (SeparableConv2 (None, 5, 5, 728)    536536      block7_sepconv3_act[0][0]        \n",
            "__________________________________________________________________________________________________\n",
            "block7_sepconv3_bn (BatchNormal (None, 5, 5, 728)    2912        block7_sepconv3[0][0]            \n",
            "__________________________________________________________________________________________________\n",
            "add_6 (Add)                     (None, 5, 5, 728)    0           block7_sepconv3_bn[0][0]         \n",
            "                                                                 add_5[0][0]                      \n",
            "__________________________________________________________________________________________________\n",
            "block8_sepconv1_act (Activation (None, 5, 5, 728)    0           add_6[0][0]                      \n",
            "__________________________________________________________________________________________________\n",
            "block8_sepconv1 (SeparableConv2 (None, 5, 5, 728)    536536      block8_sepconv1_act[0][0]        \n",
            "__________________________________________________________________________________________________\n",
            "block8_sepconv1_bn (BatchNormal (None, 5, 5, 728)    2912        block8_sepconv1[0][0]            \n",
            "__________________________________________________________________________________________________\n",
            "block8_sepconv2_act (Activation (None, 5, 5, 728)    0           block8_sepconv1_bn[0][0]         \n",
            "__________________________________________________________________________________________________\n",
            "block8_sepconv2 (SeparableConv2 (None, 5, 5, 728)    536536      block8_sepconv2_act[0][0]        \n",
            "__________________________________________________________________________________________________\n",
            "block8_sepconv2_bn (BatchNormal (None, 5, 5, 728)    2912        block8_sepconv2[0][0]            \n",
            "__________________________________________________________________________________________________\n",
            "block8_sepconv3_act (Activation (None, 5, 5, 728)    0           block8_sepconv2_bn[0][0]         \n",
            "__________________________________________________________________________________________________\n",
            "block8_sepconv3 (SeparableConv2 (None, 5, 5, 728)    536536      block8_sepconv3_act[0][0]        \n",
            "__________________________________________________________________________________________________\n",
            "block8_sepconv3_bn (BatchNormal (None, 5, 5, 728)    2912        block8_sepconv3[0][0]            \n",
            "__________________________________________________________________________________________________\n",
            "add_7 (Add)                     (None, 5, 5, 728)    0           block8_sepconv3_bn[0][0]         \n",
            "                                                                 add_6[0][0]                      \n",
            "__________________________________________________________________________________________________\n",
            "block9_sepconv1_act (Activation (None, 5, 5, 728)    0           add_7[0][0]                      \n",
            "__________________________________________________________________________________________________\n",
            "block9_sepconv1 (SeparableConv2 (None, 5, 5, 728)    536536      block9_sepconv1_act[0][0]        \n",
            "__________________________________________________________________________________________________\n",
            "block9_sepconv1_bn (BatchNormal (None, 5, 5, 728)    2912        block9_sepconv1[0][0]            \n",
            "__________________________________________________________________________________________________\n",
            "block9_sepconv2_act (Activation (None, 5, 5, 728)    0           block9_sepconv1_bn[0][0]         \n",
            "__________________________________________________________________________________________________\n",
            "block9_sepconv2 (SeparableConv2 (None, 5, 5, 728)    536536      block9_sepconv2_act[0][0]        \n",
            "__________________________________________________________________________________________________\n",
            "block9_sepconv2_bn (BatchNormal (None, 5, 5, 728)    2912        block9_sepconv2[0][0]            \n",
            "__________________________________________________________________________________________________\n",
            "block9_sepconv3_act (Activation (None, 5, 5, 728)    0           block9_sepconv2_bn[0][0]         \n",
            "__________________________________________________________________________________________________\n",
            "block9_sepconv3 (SeparableConv2 (None, 5, 5, 728)    536536      block9_sepconv3_act[0][0]        \n",
            "__________________________________________________________________________________________________\n",
            "block9_sepconv3_bn (BatchNormal (None, 5, 5, 728)    2912        block9_sepconv3[0][0]            \n",
            "__________________________________________________________________________________________________\n",
            "add_8 (Add)                     (None, 5, 5, 728)    0           block9_sepconv3_bn[0][0]         \n",
            "                                                                 add_7[0][0]                      \n",
            "__________________________________________________________________________________________________\n",
            "block10_sepconv1_act (Activatio (None, 5, 5, 728)    0           add_8[0][0]                      \n",
            "__________________________________________________________________________________________________\n",
            "block10_sepconv1 (SeparableConv (None, 5, 5, 728)    536536      block10_sepconv1_act[0][0]       \n",
            "__________________________________________________________________________________________________\n",
            "block10_sepconv1_bn (BatchNorma (None, 5, 5, 728)    2912        block10_sepconv1[0][0]           \n",
            "__________________________________________________________________________________________________\n",
            "block10_sepconv2_act (Activatio (None, 5, 5, 728)    0           block10_sepconv1_bn[0][0]        \n",
            "__________________________________________________________________________________________________\n",
            "block10_sepconv2 (SeparableConv (None, 5, 5, 728)    536536      block10_sepconv2_act[0][0]       \n",
            "__________________________________________________________________________________________________\n",
            "block10_sepconv2_bn (BatchNorma (None, 5, 5, 728)    2912        block10_sepconv2[0][0]           \n",
            "__________________________________________________________________________________________________\n",
            "block10_sepconv3_act (Activatio (None, 5, 5, 728)    0           block10_sepconv2_bn[0][0]        \n",
            "__________________________________________________________________________________________________\n",
            "block10_sepconv3 (SeparableConv (None, 5, 5, 728)    536536      block10_sepconv3_act[0][0]       \n",
            "__________________________________________________________________________________________________\n",
            "block10_sepconv3_bn (BatchNorma (None, 5, 5, 728)    2912        block10_sepconv3[0][0]           \n",
            "__________________________________________________________________________________________________\n",
            "add_9 (Add)                     (None, 5, 5, 728)    0           block10_sepconv3_bn[0][0]        \n",
            "                                                                 add_8[0][0]                      \n",
            "__________________________________________________________________________________________________\n",
            "block11_sepconv1_act (Activatio (None, 5, 5, 728)    0           add_9[0][0]                      \n",
            "__________________________________________________________________________________________________\n",
            "block11_sepconv1 (SeparableConv (None, 5, 5, 728)    536536      block11_sepconv1_act[0][0]       \n",
            "__________________________________________________________________________________________________\n",
            "block11_sepconv1_bn (BatchNorma (None, 5, 5, 728)    2912        block11_sepconv1[0][0]           \n",
            "__________________________________________________________________________________________________\n",
            "block11_sepconv2_act (Activatio (None, 5, 5, 728)    0           block11_sepconv1_bn[0][0]        \n",
            "__________________________________________________________________________________________________\n",
            "block11_sepconv2 (SeparableConv (None, 5, 5, 728)    536536      block11_sepconv2_act[0][0]       \n",
            "__________________________________________________________________________________________________\n",
            "block11_sepconv2_bn (BatchNorma (None, 5, 5, 728)    2912        block11_sepconv2[0][0]           \n",
            "__________________________________________________________________________________________________\n",
            "block11_sepconv3_act (Activatio (None, 5, 5, 728)    0           block11_sepconv2_bn[0][0]        \n",
            "__________________________________________________________________________________________________\n",
            "block11_sepconv3 (SeparableConv (None, 5, 5, 728)    536536      block11_sepconv3_act[0][0]       \n",
            "__________________________________________________________________________________________________\n",
            "block11_sepconv3_bn (BatchNorma (None, 5, 5, 728)    2912        block11_sepconv3[0][0]           \n",
            "__________________________________________________________________________________________________\n",
            "add_10 (Add)                    (None, 5, 5, 728)    0           block11_sepconv3_bn[0][0]        \n",
            "                                                                 add_9[0][0]                      \n",
            "__________________________________________________________________________________________________\n",
            "block12_sepconv1_act (Activatio (None, 5, 5, 728)    0           add_10[0][0]                     \n",
            "__________________________________________________________________________________________________\n",
            "block12_sepconv1 (SeparableConv (None, 5, 5, 728)    536536      block12_sepconv1_act[0][0]       \n",
            "__________________________________________________________________________________________________\n",
            "block12_sepconv1_bn (BatchNorma (None, 5, 5, 728)    2912        block12_sepconv1[0][0]           \n",
            "__________________________________________________________________________________________________\n",
            "block12_sepconv2_act (Activatio (None, 5, 5, 728)    0           block12_sepconv1_bn[0][0]        \n",
            "__________________________________________________________________________________________________\n",
            "block12_sepconv2 (SeparableConv (None, 5, 5, 728)    536536      block12_sepconv2_act[0][0]       \n",
            "__________________________________________________________________________________________________\n",
            "block12_sepconv2_bn (BatchNorma (None, 5, 5, 728)    2912        block12_sepconv2[0][0]           \n",
            "__________________________________________________________________________________________________\n",
            "block12_sepconv3_act (Activatio (None, 5, 5, 728)    0           block12_sepconv2_bn[0][0]        \n",
            "__________________________________________________________________________________________________\n",
            "block12_sepconv3 (SeparableConv (None, 5, 5, 728)    536536      block12_sepconv3_act[0][0]       \n",
            "__________________________________________________________________________________________________\n",
            "block12_sepconv3_bn (BatchNorma (None, 5, 5, 728)    2912        block12_sepconv3[0][0]           \n",
            "__________________________________________________________________________________________________\n",
            "add_11 (Add)                    (None, 5, 5, 728)    0           block12_sepconv3_bn[0][0]        \n",
            "                                                                 add_10[0][0]                     \n",
            "__________________________________________________________________________________________________\n",
            "block13_sepconv1_act (Activatio (None, 5, 5, 728)    0           add_11[0][0]                     \n",
            "__________________________________________________________________________________________________\n",
            "block13_sepconv1 (SeparableConv (None, 5, 5, 728)    536536      block13_sepconv1_act[0][0]       \n",
            "__________________________________________________________________________________________________\n",
            "block13_sepconv1_bn (BatchNorma (None, 5, 5, 728)    2912        block13_sepconv1[0][0]           \n",
            "__________________________________________________________________________________________________\n",
            "block13_sepconv2_act (Activatio (None, 5, 5, 728)    0           block13_sepconv1_bn[0][0]        \n",
            "__________________________________________________________________________________________________\n",
            "block13_sepconv2 (SeparableConv (None, 5, 5, 1024)   752024      block13_sepconv2_act[0][0]       \n",
            "__________________________________________________________________________________________________\n",
            "block13_sepconv2_bn (BatchNorma (None, 5, 5, 1024)   4096        block13_sepconv2[0][0]           \n",
            "__________________________________________________________________________________________________\n",
            "conv2d_4 (Conv2D)               (None, 3, 3, 1024)   745472      add_11[0][0]                     \n",
            "__________________________________________________________________________________________________\n",
            "block13_pool (MaxPooling2D)     (None, 3, 3, 1024)   0           block13_sepconv2_bn[0][0]        \n",
            "__________________________________________________________________________________________________\n",
            "batch_normalization_4 (BatchNor (None, 3, 3, 1024)   4096        conv2d_4[0][0]                   \n",
            "__________________________________________________________________________________________________\n",
            "add_12 (Add)                    (None, 3, 3, 1024)   0           block13_pool[0][0]               \n",
            "                                                                 batch_normalization_4[0][0]      \n",
            "__________________________________________________________________________________________________\n",
            "block14_sepconv1 (SeparableConv (None, 3, 3, 1536)   1582080     add_12[0][0]                     \n",
            "__________________________________________________________________________________________________\n",
            "block14_sepconv1_bn (BatchNorma (None, 3, 3, 1536)   6144        block14_sepconv1[0][0]           \n",
            "__________________________________________________________________________________________________\n",
            "block14_sepconv1_act (Activatio (None, 3, 3, 1536)   0           block14_sepconv1_bn[0][0]        \n",
            "__________________________________________________________________________________________________\n",
            "block14_sepconv2 (SeparableConv (None, 3, 3, 2048)   3159552     block14_sepconv1_act[0][0]       \n",
            "__________________________________________________________________________________________________\n",
            "block14_sepconv2_bn (BatchNorma (None, 3, 3, 2048)   8192        block14_sepconv2[0][0]           \n",
            "__________________________________________________________________________________________________\n",
            "block14_sepconv2_act (Activatio (None, 3, 3, 2048)   0           block14_sepconv2_bn[0][0]        \n",
            "==================================================================================================\n",
            "Total params: 20,861,480\n",
            "Trainable params: 20,806,952\n",
            "Non-trainable params: 54,528\n",
            "__________________________________________________________________________________________________\n"
          ],
          "name": "stdout"
        }
      ]
    },
    {
      "metadata": {
        "id": "2VfUW4SUzRk0",
        "colab_type": "text"
      },
      "cell_type": "markdown",
      "source": [
        "**ADDING CIFAR DATA VALUES TO THE PRE-EXISTING MODEL STRUCTURE**"
      ]
    },
    {
      "metadata": {
        "id": "cfS013b8iy0G",
        "colab_type": "code",
        "outputId": "ca471398-5455-4c2d-c4aa-7609375a2553",
        "colab": {
          "base_uri": "https://localhost:8080/",
          "height": 52
        }
      },
      "cell_type": "code",
      "source": [
        "\n",
        "x_train = base_model.predict(data_train)\n",
        "x_val = base_model.predict(data_test)\n",
        "print(x_train.shape)\n",
        "print(x_val.shape)\n",
        "  \n",
        "\n",
        "\n"
      ],
      "execution_count": 0,
      "outputs": [
        {
          "output_type": "stream",
          "text": [
            "(50000, 3, 3, 2048)\n",
            "(10000, 3, 3, 2048)\n"
          ],
          "name": "stdout"
        }
      ]
    },
    {
      "metadata": {
        "id": "nKkyALuEzcGW",
        "colab_type": "text"
      },
      "cell_type": "markdown",
      "source": [
        "**ADDING LAYERS ON TOP OF PRETRAINED MODEL: CUSTOMIZING MODEL**\n"
      ]
    },
    {
      "metadata": {
        "id": "yEYG_hKEhc2p",
        "colab_type": "text"
      },
      "cell_type": "markdown",
      "source": [
        "running"
      ]
    },
    {
      "metadata": {
        "id": "govFI6VIhEef",
        "colab_type": "code",
        "colab": {}
      },
      "cell_type": "code",
      "source": [
        "model = models.Sequential()\n",
        "model.add(Dropout(0.3))\n",
        "model.add(Dense(512))\n",
        "model.add(LeakyReLU(alpha=0.1))\n",
        "model.add(Flatten())\n",
        "model.add(Dense(512))\n",
        "model.add(LeakyReLU(alpha=0.1))\n",
        "model.add(Dense(10,activation='softmax'))\n",
        "opt = optimizers.SGD(lr=.0001)\n",
        "model.compile(optimizer=opt,loss='categorical_crossentropy',metrics=['accuracy'])\n"
      ],
      "execution_count": 0,
      "outputs": []
    },
    {
      "metadata": {
        "id": "56SNnk__krCu",
        "colab_type": "code",
        "outputId": "f177467e-401a-497c-f1c3-590f78cd85a7",
        "colab": {
          "base_uri": "https://localhost:8080/",
          "height": 132
        }
      },
      "cell_type": "code",
      "source": [
        "model = models.Sequential()\n",
        "model.add(Dropout(0.3))\n",
        "model.add(Dense(512))\n",
        "model.add(LeakyReLU(alpha=0.1))\n",
        "model.add(Flatten())\n",
        "model.add(Dense(512))\n",
        "model.add(Dropout(0.1)\n",
        "\n",
        "#model.add(Activation('tanh'))\n",
        "#model.add(LeakyReLU(alpha=0.1))\n",
        "model.add(Dense(10))\n",
        "model.add(activation='softmax')\n",
        "opt = optimizers.SGD(lr=.0001)\n",
        "model.compile(optimizer=opt,loss='categorical_crossentropy',metrics=['accuracy'])\n",
        "\n"
      ],
      "execution_count": 0,
      "outputs": [
        {
          "output_type": "error",
          "ename": "SyntaxError",
          "evalue": "ignored",
          "traceback": [
            "\u001b[0;36m  File \u001b[0;32m\"<ipython-input-16-087aef1d0638>\"\u001b[0;36m, line \u001b[0;32m11\u001b[0m\n\u001b[0;31m    model.add(Dense(10))\u001b[0m\n\u001b[0m        ^\u001b[0m\n\u001b[0;31mSyntaxError\u001b[0m\u001b[0;31m:\u001b[0m invalid syntax\n"
          ]
        }
      ]
    },
    {
      "metadata": {
        "id": "aW4BqtSn1BZF",
        "colab_type": "text"
      },
      "cell_type": "markdown",
      "source": [
        "**MODEL TRAINING** "
      ]
    },
    {
      "metadata": {
        "id": "ArZcBBumkr8L",
        "colab_type": "code",
        "outputId": "b3a02e00-0363-4187-9655-de48a151ba25",
        "colab": {
          "base_uri": "https://localhost:8080/",
          "height": 5495
        }
      },
      "cell_type": "code",
      "source": [
        "fit_m =model.fit(x_train,y_train, batch_size=32, epochs=150,validation_data=(x_val,y_test),shuffle=True)\n"
      ],
      "execution_count": 0,
      "outputs": [
        {
          "output_type": "stream",
          "text": [
            "WARNING:tensorflow:From /usr/local/lib/python3.6/dist-packages/keras/backend/tensorflow_backend.py:3445: calling dropout (from tensorflow.python.ops.nn_ops) with keep_prob is deprecated and will be removed in a future version.\n",
            "Instructions for updating:\n",
            "Please use `rate` instead of `keep_prob`. Rate should be set to `rate = 1 - keep_prob`.\n",
            "WARNING:tensorflow:From /usr/local/lib/python3.6/dist-packages/tensorflow/python/ops/math_ops.py:3066: to_int32 (from tensorflow.python.ops.math_ops) is deprecated and will be removed in a future version.\n",
            "Instructions for updating:\n",
            "Use tf.cast instead.\n",
            "Train on 50000 samples, validate on 10000 samples\n",
            "Epoch 1/150\n",
            "50000/50000 [==============================] - 17s 350us/step - loss: 4.6863 - acc: 0.1952 - val_loss: 1.9839 - val_acc: 0.2961\n",
            "Epoch 2/150\n",
            "50000/50000 [==============================] - 16s 318us/step - loss: 2.3182 - acc: 0.2412 - val_loss: 1.9641 - val_acc: 0.2873\n",
            "Epoch 3/150\n",
            "50000/50000 [==============================] - 16s 320us/step - loss: 2.1702 - acc: 0.2624 - val_loss: 1.8829 - val_acc: 0.3443\n",
            "Epoch 4/150\n",
            "50000/50000 [==============================] - 16s 319us/step - loss: 2.1009 - acc: 0.2771 - val_loss: 1.8392 - val_acc: 0.3642\n",
            "Epoch 5/150\n",
            "50000/50000 [==============================] - 16s 318us/step - loss: 2.0473 - acc: 0.2924 - val_loss: 1.8386 - val_acc: 0.3583\n",
            "Epoch 6/150\n",
            "50000/50000 [==============================] - 16s 317us/step - loss: 2.0140 - acc: 0.3034 - val_loss: 1.8178 - val_acc: 0.3659\n",
            "Epoch 7/150\n",
            "50000/50000 [==============================] - 16s 319us/step - loss: 1.9796 - acc: 0.3109 - val_loss: 1.7954 - val_acc: 0.3834\n",
            "Epoch 8/150\n",
            "50000/50000 [==============================] - 16s 317us/step - loss: 1.9564 - acc: 0.3155 - val_loss: 1.7894 - val_acc: 0.3795\n",
            "Epoch 9/150\n",
            "50000/50000 [==============================] - 16s 318us/step - loss: 1.9335 - acc: 0.3229 - val_loss: 1.7744 - val_acc: 0.3817\n",
            "Epoch 10/150\n",
            "50000/50000 [==============================] - 16s 319us/step - loss: 1.9122 - acc: 0.3316 - val_loss: 1.7689 - val_acc: 0.3849\n",
            "Epoch 11/150\n",
            "50000/50000 [==============================] - 16s 318us/step - loss: 1.9025 - acc: 0.3345 - val_loss: 1.7805 - val_acc: 0.3785\n",
            "Epoch 12/150\n",
            "50000/50000 [==============================] - 16s 318us/step - loss: 1.8812 - acc: 0.3438 - val_loss: 1.7589 - val_acc: 0.3898\n",
            "Epoch 13/150\n",
            "50000/50000 [==============================] - 16s 319us/step - loss: 1.8695 - acc: 0.3445 - val_loss: 1.7425 - val_acc: 0.3943\n",
            "Epoch 14/150\n",
            "50000/50000 [==============================] - 16s 317us/step - loss: 1.8596 - acc: 0.3496 - val_loss: 1.7292 - val_acc: 0.3974\n",
            "Epoch 15/150\n",
            "50000/50000 [==============================] - 16s 316us/step - loss: 1.8510 - acc: 0.3524 - val_loss: 1.7331 - val_acc: 0.3975\n",
            "Epoch 16/150\n",
            "50000/50000 [==============================] - 16s 317us/step - loss: 1.8418 - acc: 0.3532 - val_loss: 1.7333 - val_acc: 0.3911\n",
            "Epoch 17/150\n",
            "50000/50000 [==============================] - 16s 323us/step - loss: 1.8316 - acc: 0.3564 - val_loss: 1.7073 - val_acc: 0.4023\n",
            "Epoch 18/150\n",
            "50000/50000 [==============================] - 16s 316us/step - loss: 1.8191 - acc: 0.3622 - val_loss: 1.7195 - val_acc: 0.3981\n",
            "Epoch 19/150\n",
            "50000/50000 [==============================] - 16s 316us/step - loss: 1.8137 - acc: 0.3621 - val_loss: 1.6975 - val_acc: 0.4071\n",
            "Epoch 20/150\n",
            "50000/50000 [==============================] - 16s 316us/step - loss: 1.8026 - acc: 0.3660 - val_loss: 1.6928 - val_acc: 0.4125\n",
            "Epoch 21/150\n",
            "50000/50000 [==============================] - 16s 317us/step - loss: 1.7957 - acc: 0.3674 - val_loss: 1.6984 - val_acc: 0.4073\n",
            "Epoch 22/150\n",
            "50000/50000 [==============================] - 16s 317us/step - loss: 1.7923 - acc: 0.3702 - val_loss: 1.6960 - val_acc: 0.4103\n",
            "Epoch 23/150\n",
            "50000/50000 [==============================] - 16s 316us/step - loss: 1.7884 - acc: 0.3728 - val_loss: 1.6974 - val_acc: 0.4083\n",
            "Epoch 24/150\n",
            "50000/50000 [==============================] - 16s 318us/step - loss: 1.7821 - acc: 0.3741 - val_loss: 1.6832 - val_acc: 0.4079\n",
            "Epoch 25/150\n",
            "50000/50000 [==============================] - 16s 318us/step - loss: 1.7732 - acc: 0.3761 - val_loss: 1.6924 - val_acc: 0.4094\n",
            "Epoch 26/150\n",
            "50000/50000 [==============================] - 16s 316us/step - loss: 1.7682 - acc: 0.3790 - val_loss: 1.6724 - val_acc: 0.4172\n",
            "Epoch 27/150\n",
            "50000/50000 [==============================] - 16s 316us/step - loss: 1.7622 - acc: 0.3794 - val_loss: 1.6840 - val_acc: 0.4109\n",
            "Epoch 28/150\n",
            "50000/50000 [==============================] - 16s 317us/step - loss: 1.7578 - acc: 0.3833 - val_loss: 1.6612 - val_acc: 0.4198\n",
            "Epoch 29/150\n",
            "50000/50000 [==============================] - 16s 317us/step - loss: 1.7528 - acc: 0.3875 - val_loss: 1.6718 - val_acc: 0.4159\n",
            "Epoch 30/150\n",
            "50000/50000 [==============================] - 16s 317us/step - loss: 1.7465 - acc: 0.3877 - val_loss: 1.7073 - val_acc: 0.4066\n",
            "Epoch 31/150\n",
            "50000/50000 [==============================] - 16s 316us/step - loss: 1.7430 - acc: 0.3885 - val_loss: 1.6575 - val_acc: 0.4199\n",
            "Epoch 32/150\n",
            "50000/50000 [==============================] - 16s 317us/step - loss: 1.7423 - acc: 0.3876 - val_loss: 1.6788 - val_acc: 0.4150\n",
            "Epoch 33/150\n",
            "50000/50000 [==============================] - 16s 317us/step - loss: 1.7332 - acc: 0.3915 - val_loss: 1.6403 - val_acc: 0.4300\n",
            "Epoch 34/150\n",
            "50000/50000 [==============================] - 16s 317us/step - loss: 1.7324 - acc: 0.3912 - val_loss: 1.6497 - val_acc: 0.4195\n",
            "Epoch 35/150\n",
            "50000/50000 [==============================] - 16s 316us/step - loss: 1.7270 - acc: 0.3941 - val_loss: 1.6365 - val_acc: 0.4288\n",
            "Epoch 36/150\n",
            "50000/50000 [==============================] - 16s 318us/step - loss: 1.7238 - acc: 0.3940 - val_loss: 1.6580 - val_acc: 0.4192\n",
            "Epoch 37/150\n",
            "50000/50000 [==============================] - 16s 318us/step - loss: 1.7206 - acc: 0.3936 - val_loss: 1.6421 - val_acc: 0.4248\n",
            "Epoch 38/150\n",
            "50000/50000 [==============================] - 16s 315us/step - loss: 1.7190 - acc: 0.3954 - val_loss: 1.6396 - val_acc: 0.4262\n",
            "Epoch 39/150\n",
            "50000/50000 [==============================] - 16s 315us/step - loss: 1.7128 - acc: 0.4005 - val_loss: 1.6276 - val_acc: 0.4343\n",
            "Epoch 40/150\n",
            "50000/50000 [==============================] - 16s 314us/step - loss: 1.7075 - acc: 0.3993 - val_loss: 1.6374 - val_acc: 0.4275\n",
            "Epoch 41/150\n",
            "50000/50000 [==============================] - 16s 315us/step - loss: 1.7055 - acc: 0.4018 - val_loss: 1.6245 - val_acc: 0.4324\n",
            "Epoch 42/150\n",
            "50000/50000 [==============================] - 16s 314us/step - loss: 1.7037 - acc: 0.4017 - val_loss: 1.6189 - val_acc: 0.4340\n",
            "Epoch 43/150\n",
            "50000/50000 [==============================] - 16s 316us/step - loss: 1.7015 - acc: 0.4021 - val_loss: 1.6198 - val_acc: 0.4390\n",
            "Epoch 44/150\n",
            "50000/50000 [==============================] - 16s 315us/step - loss: 1.6963 - acc: 0.4046 - val_loss: 1.6304 - val_acc: 0.4347\n",
            "Epoch 45/150\n",
            "50000/50000 [==============================] - 16s 315us/step - loss: 1.6965 - acc: 0.4027 - val_loss: 1.6358 - val_acc: 0.4276\n",
            "Epoch 46/150\n",
            "50000/50000 [==============================] - 16s 314us/step - loss: 1.6926 - acc: 0.4056 - val_loss: 1.6129 - val_acc: 0.4371\n",
            "Epoch 47/150\n",
            "50000/50000 [==============================] - 16s 316us/step - loss: 1.6891 - acc: 0.4079 - val_loss: 1.6198 - val_acc: 0.4382\n",
            "Epoch 48/150\n",
            "50000/50000 [==============================] - 16s 314us/step - loss: 1.6900 - acc: 0.4080 - val_loss: 1.6172 - val_acc: 0.4375\n",
            "Epoch 49/150\n",
            "50000/50000 [==============================] - 16s 315us/step - loss: 1.6834 - acc: 0.4087 - val_loss: 1.6113 - val_acc: 0.4359\n",
            "Epoch 50/150\n",
            "50000/50000 [==============================] - 16s 316us/step - loss: 1.6809 - acc: 0.4086 - val_loss: 1.6135 - val_acc: 0.4318\n",
            "Epoch 51/150\n",
            "50000/50000 [==============================] - 16s 316us/step - loss: 1.6801 - acc: 0.4085 - val_loss: 1.6259 - val_acc: 0.4323\n",
            "Epoch 52/150\n",
            "50000/50000 [==============================] - 16s 314us/step - loss: 1.6765 - acc: 0.4094 - val_loss: 1.6060 - val_acc: 0.4408\n",
            "Epoch 53/150\n",
            "50000/50000 [==============================] - 16s 315us/step - loss: 1.6764 - acc: 0.4116 - val_loss: 1.6060 - val_acc: 0.4398\n",
            "Epoch 54/150\n",
            "50000/50000 [==============================] - 16s 314us/step - loss: 1.6734 - acc: 0.4130 - val_loss: 1.6018 - val_acc: 0.4466\n",
            "Epoch 55/150\n",
            "50000/50000 [==============================] - 16s 315us/step - loss: 1.6708 - acc: 0.4137 - val_loss: 1.5947 - val_acc: 0.4466\n",
            "Epoch 56/150\n",
            "50000/50000 [==============================] - 16s 316us/step - loss: 1.6660 - acc: 0.4136 - val_loss: 1.6068 - val_acc: 0.4399\n",
            "Epoch 57/150\n",
            "50000/50000 [==============================] - 16s 315us/step - loss: 1.6702 - acc: 0.4129 - val_loss: 1.6232 - val_acc: 0.4272\n",
            "Epoch 58/150\n",
            "50000/50000 [==============================] - 16s 315us/step - loss: 1.6654 - acc: 0.4167 - val_loss: 1.5988 - val_acc: 0.4414\n",
            "Epoch 59/150\n",
            "50000/50000 [==============================] - 16s 313us/step - loss: 1.6631 - acc: 0.4160 - val_loss: 1.6018 - val_acc: 0.4414\n",
            "Epoch 60/150\n",
            "50000/50000 [==============================] - 16s 313us/step - loss: 1.6615 - acc: 0.4170 - val_loss: 1.5969 - val_acc: 0.4426\n",
            "Epoch 61/150\n",
            "50000/50000 [==============================] - 16s 314us/step - loss: 1.6580 - acc: 0.4170 - val_loss: 1.5928 - val_acc: 0.4448\n",
            "Epoch 62/150\n",
            "50000/50000 [==============================] - 16s 314us/step - loss: 1.6575 - acc: 0.4185 - val_loss: 1.6027 - val_acc: 0.4401\n",
            "Epoch 63/150\n",
            "50000/50000 [==============================] - 16s 314us/step - loss: 1.6544 - acc: 0.4181 - val_loss: 1.6101 - val_acc: 0.4293\n",
            "Epoch 64/150\n",
            "50000/50000 [==============================] - 16s 315us/step - loss: 1.6528 - acc: 0.4202 - val_loss: 1.5929 - val_acc: 0.4458\n",
            "Epoch 65/150\n",
            "50000/50000 [==============================] - 16s 317us/step - loss: 1.6485 - acc: 0.4192 - val_loss: 1.5950 - val_acc: 0.4392\n",
            "Epoch 66/150\n",
            "50000/50000 [==============================] - 16s 316us/step - loss: 1.6479 - acc: 0.4212 - val_loss: 1.5793 - val_acc: 0.4501\n",
            "Epoch 67/150\n",
            "50000/50000 [==============================] - 16s 315us/step - loss: 1.6454 - acc: 0.4222 - val_loss: 1.5793 - val_acc: 0.4485\n",
            "Epoch 68/150\n",
            "50000/50000 [==============================] - 16s 316us/step - loss: 1.6456 - acc: 0.4217 - val_loss: 1.5806 - val_acc: 0.4495\n",
            "Epoch 69/150\n",
            "50000/50000 [==============================] - 16s 317us/step - loss: 1.6406 - acc: 0.4232 - val_loss: 1.5803 - val_acc: 0.4468\n",
            "Epoch 70/150\n",
            "50000/50000 [==============================] - 16s 317us/step - loss: 1.6412 - acc: 0.4244 - val_loss: 1.5881 - val_acc: 0.4447\n",
            "Epoch 71/150\n",
            "50000/50000 [==============================] - 16s 315us/step - loss: 1.6399 - acc: 0.4250 - val_loss: 1.5693 - val_acc: 0.4506\n",
            "Epoch 72/150\n",
            "50000/50000 [==============================] - 16s 316us/step - loss: 1.6362 - acc: 0.4255 - val_loss: 1.5737 - val_acc: 0.4531\n",
            "Epoch 73/150\n",
            "50000/50000 [==============================] - 16s 317us/step - loss: 1.6338 - acc: 0.4278 - val_loss: 1.5924 - val_acc: 0.4400\n",
            "Epoch 74/150\n",
            "50000/50000 [==============================] - 16s 316us/step - loss: 1.6347 - acc: 0.4273 - val_loss: 1.5681 - val_acc: 0.4553\n",
            "Epoch 75/150\n",
            "50000/50000 [==============================] - 16s 315us/step - loss: 1.6362 - acc: 0.4245 - val_loss: 1.5867 - val_acc: 0.4432\n",
            "Epoch 76/150\n",
            "50000/50000 [==============================] - 16s 317us/step - loss: 1.6330 - acc: 0.4273 - val_loss: 1.5617 - val_acc: 0.4531\n",
            "Epoch 77/150\n",
            "50000/50000 [==============================] - 16s 313us/step - loss: 1.6289 - acc: 0.4291 - val_loss: 1.5711 - val_acc: 0.4522\n",
            "Epoch 78/150\n",
            "50000/50000 [==============================] - 16s 316us/step - loss: 1.6264 - acc: 0.4287 - val_loss: 1.5949 - val_acc: 0.4387\n",
            "Epoch 79/150\n",
            "50000/50000 [==============================] - 16s 314us/step - loss: 1.6197 - acc: 0.4291 - val_loss: 1.5615 - val_acc: 0.4541\n",
            "Epoch 80/150\n",
            "50000/50000 [==============================] - 16s 318us/step - loss: 1.6236 - acc: 0.4290 - val_loss: 1.5697 - val_acc: 0.4490\n",
            "Epoch 81/150\n",
            "50000/50000 [==============================] - 16s 316us/step - loss: 1.6220 - acc: 0.4308 - val_loss: 1.5874 - val_acc: 0.4471\n",
            "Epoch 82/150\n",
            "50000/50000 [==============================] - 16s 315us/step - loss: 1.6233 - acc: 0.4311 - val_loss: 1.5741 - val_acc: 0.4511\n",
            "Epoch 83/150\n",
            "50000/50000 [==============================] - 16s 316us/step - loss: 1.6181 - acc: 0.4321 - val_loss: 1.5740 - val_acc: 0.4501\n",
            "Epoch 84/150\n",
            "50000/50000 [==============================] - 16s 317us/step - loss: 1.6190 - acc: 0.4328 - val_loss: 1.5543 - val_acc: 0.4563\n",
            "Epoch 85/150\n",
            "50000/50000 [==============================] - 16s 316us/step - loss: 1.6151 - acc: 0.4331 - val_loss: 1.5641 - val_acc: 0.4519\n",
            "Epoch 86/150\n",
            "50000/50000 [==============================] - 16s 315us/step - loss: 1.6154 - acc: 0.4302 - val_loss: 1.5477 - val_acc: 0.4549\n",
            "Epoch 87/150\n",
            "50000/50000 [==============================] - 16s 315us/step - loss: 1.6178 - acc: 0.4317 - val_loss: 1.5553 - val_acc: 0.4567\n",
            "Epoch 88/150\n",
            "50000/50000 [==============================] - 16s 316us/step - loss: 1.6139 - acc: 0.4327 - val_loss: 1.5633 - val_acc: 0.4564\n",
            "Epoch 89/150\n",
            "50000/50000 [==============================] - 16s 316us/step - loss: 1.6136 - acc: 0.4332 - val_loss: 1.5648 - val_acc: 0.4497\n",
            "Epoch 90/150\n",
            "50000/50000 [==============================] - 16s 316us/step - loss: 1.6151 - acc: 0.4334 - val_loss: 1.5684 - val_acc: 0.4495\n",
            "Epoch 91/150\n",
            "50000/50000 [==============================] - 16s 316us/step - loss: 1.6079 - acc: 0.4364 - val_loss: 1.5613 - val_acc: 0.4516\n",
            "Epoch 92/150\n",
            "50000/50000 [==============================] - 16s 316us/step - loss: 1.6095 - acc: 0.4350 - val_loss: 1.5515 - val_acc: 0.4551\n",
            "Epoch 93/150\n",
            "50000/50000 [==============================] - 16s 317us/step - loss: 1.6056 - acc: 0.4356 - val_loss: 1.5548 - val_acc: 0.4537\n",
            "Epoch 94/150\n",
            "50000/50000 [==============================] - 16s 316us/step - loss: 1.6068 - acc: 0.4366 - val_loss: 1.5476 - val_acc: 0.4565\n",
            "Epoch 95/150\n",
            "50000/50000 [==============================] - 16s 316us/step - loss: 1.6067 - acc: 0.4344 - val_loss: 1.5615 - val_acc: 0.4532\n",
            "Epoch 96/150\n",
            "50000/50000 [==============================] - 16s 316us/step - loss: 1.6016 - acc: 0.4345 - val_loss: 1.5486 - val_acc: 0.4563\n",
            "Epoch 97/150\n",
            "50000/50000 [==============================] - 16s 317us/step - loss: 1.6041 - acc: 0.4352 - val_loss: 1.5542 - val_acc: 0.4564\n",
            "Epoch 98/150\n",
            "50000/50000 [==============================] - 16s 316us/step - loss: 1.6008 - acc: 0.4368 - val_loss: 1.5542 - val_acc: 0.4581\n",
            "Epoch 99/150\n",
            "50000/50000 [==============================] - 16s 316us/step - loss: 1.6002 - acc: 0.4379 - val_loss: 1.5456 - val_acc: 0.4606\n",
            "Epoch 100/150\n",
            "50000/50000 [==============================] - 16s 316us/step - loss: 1.5998 - acc: 0.4373 - val_loss: 1.5429 - val_acc: 0.4610\n",
            "Epoch 101/150\n",
            "50000/50000 [==============================] - 16s 317us/step - loss: 1.5978 - acc: 0.4392 - val_loss: 1.5456 - val_acc: 0.4595\n",
            "Epoch 102/150\n",
            "50000/50000 [==============================] - 16s 317us/step - loss: 1.5964 - acc: 0.4395 - val_loss: 1.5501 - val_acc: 0.4558\n",
            "Epoch 103/150\n",
            "50000/50000 [==============================] - 16s 318us/step - loss: 1.5946 - acc: 0.4410 - val_loss: 1.5353 - val_acc: 0.4665\n",
            "Epoch 104/150\n",
            "50000/50000 [==============================] - 16s 316us/step - loss: 1.5978 - acc: 0.4377 - val_loss: 1.5372 - val_acc: 0.4609\n",
            "Epoch 105/150\n",
            "50000/50000 [==============================] - 16s 315us/step - loss: 1.5939 - acc: 0.4392 - val_loss: 1.5425 - val_acc: 0.4609\n",
            "Epoch 106/150\n",
            "50000/50000 [==============================] - 16s 315us/step - loss: 1.5948 - acc: 0.4414 - val_loss: 1.5529 - val_acc: 0.4552\n",
            "Epoch 107/150\n",
            "50000/50000 [==============================] - 16s 315us/step - loss: 1.5928 - acc: 0.4402 - val_loss: 1.5380 - val_acc: 0.4609\n",
            "Epoch 108/150\n",
            "50000/50000 [==============================] - 16s 317us/step - loss: 1.5912 - acc: 0.4415 - val_loss: 1.5408 - val_acc: 0.4593\n",
            "Epoch 109/150\n",
            "50000/50000 [==============================] - 16s 315us/step - loss: 1.5882 - acc: 0.4426 - val_loss: 1.5366 - val_acc: 0.4602\n",
            "Epoch 110/150\n",
            "50000/50000 [==============================] - 16s 315us/step - loss: 1.5858 - acc: 0.4434 - val_loss: 1.5506 - val_acc: 0.4543\n",
            "Epoch 111/150\n",
            "50000/50000 [==============================] - 16s 316us/step - loss: 1.5918 - acc: 0.4414 - val_loss: 1.5345 - val_acc: 0.4634\n",
            "Epoch 112/150\n",
            "50000/50000 [==============================] - 16s 316us/step - loss: 1.5849 - acc: 0.4441 - val_loss: 1.5400 - val_acc: 0.4618\n",
            "Epoch 113/150\n",
            "50000/50000 [==============================] - 16s 315us/step - loss: 1.5823 - acc: 0.4426 - val_loss: 1.5346 - val_acc: 0.4603\n",
            "Epoch 114/150\n",
            "50000/50000 [==============================] - 16s 316us/step - loss: 1.5863 - acc: 0.4410 - val_loss: 1.5313 - val_acc: 0.4625\n",
            "Epoch 115/150\n",
            "50000/50000 [==============================] - 16s 315us/step - loss: 1.5829 - acc: 0.4448 - val_loss: 1.5401 - val_acc: 0.4589\n",
            "Epoch 116/150\n",
            "50000/50000 [==============================] - 16s 317us/step - loss: 1.5834 - acc: 0.4433 - val_loss: 1.5331 - val_acc: 0.4606\n",
            "Epoch 117/150\n",
            "50000/50000 [==============================] - 16s 316us/step - loss: 1.5819 - acc: 0.4445 - val_loss: 1.5206 - val_acc: 0.4649\n",
            "Epoch 118/150\n",
            "50000/50000 [==============================] - 16s 316us/step - loss: 1.5806 - acc: 0.4452 - val_loss: 1.5387 - val_acc: 0.4601\n",
            "Epoch 119/150\n",
            "50000/50000 [==============================] - 16s 317us/step - loss: 1.5765 - acc: 0.4467 - val_loss: 1.5387 - val_acc: 0.4572\n",
            "Epoch 120/150\n",
            "50000/50000 [==============================] - 16s 316us/step - loss: 1.5786 - acc: 0.4450 - val_loss: 1.5252 - val_acc: 0.4674\n",
            "Epoch 121/150\n",
            "50000/50000 [==============================] - 16s 316us/step - loss: 1.5762 - acc: 0.4467 - val_loss: 1.5312 - val_acc: 0.4632\n",
            "Epoch 122/150\n",
            "50000/50000 [==============================] - 16s 318us/step - loss: 1.5755 - acc: 0.4484 - val_loss: 1.5442 - val_acc: 0.4578\n",
            "Epoch 123/150\n",
            "50000/50000 [==============================] - 16s 316us/step - loss: 1.5775 - acc: 0.4451 - val_loss: 1.5470 - val_acc: 0.4591\n",
            "Epoch 124/150\n",
            "50000/50000 [==============================] - 16s 317us/step - loss: 1.5754 - acc: 0.4469 - val_loss: 1.5481 - val_acc: 0.4548\n",
            "Epoch 125/150\n",
            "50000/50000 [==============================] - 16s 316us/step - loss: 1.5720 - acc: 0.4480 - val_loss: 1.5227 - val_acc: 0.4654\n",
            "Epoch 126/150\n",
            "50000/50000 [==============================] - 16s 317us/step - loss: 1.5731 - acc: 0.4485 - val_loss: 1.5281 - val_acc: 0.4663\n",
            "Epoch 127/150\n",
            "50000/50000 [==============================] - 16s 315us/step - loss: 1.5712 - acc: 0.4492 - val_loss: 1.5201 - val_acc: 0.4680\n",
            "Epoch 128/150\n",
            "50000/50000 [==============================] - 16s 315us/step - loss: 1.5693 - acc: 0.4496 - val_loss: 1.5213 - val_acc: 0.4661\n",
            "Epoch 129/150\n",
            "50000/50000 [==============================] - 16s 312us/step - loss: 1.5723 - acc: 0.4490 - val_loss: 1.5289 - val_acc: 0.4639\n",
            "Epoch 130/150\n",
            "50000/50000 [==============================] - 16s 316us/step - loss: 1.5674 - acc: 0.4499 - val_loss: 1.5184 - val_acc: 0.4674\n",
            "Epoch 131/150\n",
            "50000/50000 [==============================] - 16s 316us/step - loss: 1.5667 - acc: 0.4470 - val_loss: 1.5145 - val_acc: 0.4683\n",
            "Epoch 132/150\n",
            "50000/50000 [==============================] - 16s 317us/step - loss: 1.5680 - acc: 0.4520 - val_loss: 1.5287 - val_acc: 0.4618\n",
            "Epoch 133/150\n",
            "50000/50000 [==============================] - 16s 316us/step - loss: 1.5701 - acc: 0.4508 - val_loss: 1.5190 - val_acc: 0.4682\n",
            "Epoch 134/150\n",
            "50000/50000 [==============================] - 16s 316us/step - loss: 1.5655 - acc: 0.4494 - val_loss: 1.5207 - val_acc: 0.4659\n",
            "Epoch 135/150\n",
            "50000/50000 [==============================] - 16s 317us/step - loss: 1.5640 - acc: 0.4515 - val_loss: 1.5228 - val_acc: 0.4660\n",
            "Epoch 136/150\n",
            "50000/50000 [==============================] - 16s 315us/step - loss: 1.5618 - acc: 0.4515 - val_loss: 1.5261 - val_acc: 0.4624\n",
            "Epoch 137/150\n",
            "50000/50000 [==============================] - 16s 315us/step - loss: 1.5650 - acc: 0.4494 - val_loss: 1.5092 - val_acc: 0.4705\n",
            "Epoch 138/150\n",
            "50000/50000 [==============================] - 16s 316us/step - loss: 1.5638 - acc: 0.4513 - val_loss: 1.5104 - val_acc: 0.4728\n",
            "Epoch 139/150\n",
            "50000/50000 [==============================] - 16s 315us/step - loss: 1.5622 - acc: 0.4514 - val_loss: 1.5120 - val_acc: 0.4733\n",
            "Epoch 140/150\n",
            "50000/50000 [==============================] - 16s 314us/step - loss: 1.5571 - acc: 0.4523 - val_loss: 1.5051 - val_acc: 0.4745\n",
            "Epoch 141/150\n",
            "50000/50000 [==============================] - 16s 316us/step - loss: 1.5629 - acc: 0.4511 - val_loss: 1.5086 - val_acc: 0.4714\n",
            "Epoch 142/150\n",
            "50000/50000 [==============================] - 16s 317us/step - loss: 1.5597 - acc: 0.4523 - val_loss: 1.5167 - val_acc: 0.4683\n",
            "Epoch 143/150\n",
            "50000/50000 [==============================] - 16s 316us/step - loss: 1.5593 - acc: 0.4527 - val_loss: 1.5072 - val_acc: 0.4724\n",
            "Epoch 144/150\n",
            "50000/50000 [==============================] - 16s 316us/step - loss: 1.5569 - acc: 0.4558 - val_loss: 1.5200 - val_acc: 0.4667\n",
            "Epoch 145/150\n",
            "50000/50000 [==============================] - 16s 318us/step - loss: 1.5554 - acc: 0.4539 - val_loss: 1.5156 - val_acc: 0.4688\n",
            "Epoch 146/150\n",
            "50000/50000 [==============================] - 16s 317us/step - loss: 1.5551 - acc: 0.4548 - val_loss: 1.5179 - val_acc: 0.4652\n",
            "Epoch 147/150\n",
            "50000/50000 [==============================] - 16s 317us/step - loss: 1.5545 - acc: 0.4544 - val_loss: 1.5202 - val_acc: 0.4683\n",
            "Epoch 148/150\n",
            "50000/50000 [==============================] - 16s 316us/step - loss: 1.5528 - acc: 0.4551 - val_loss: 1.5161 - val_acc: 0.4687\n",
            "Epoch 149/150\n",
            "50000/50000 [==============================] - 16s 317us/step - loss: 1.5533 - acc: 0.4536 - val_loss: 1.5002 - val_acc: 0.4756\n",
            "Epoch 150/150\n",
            "50000/50000 [==============================] - 16s 316us/step - loss: 1.5502 - acc: 0.4565 - val_loss: 1.5252 - val_acc: 0.4652\n"
          ],
          "name": "stdout"
        }
      ]
    },
    {
      "metadata": {
        "id": "nwSbxjM_1LCr",
        "colab_type": "text"
      },
      "cell_type": "markdown",
      "source": [
        "**MODEL PERFORMANCE EVALUATION**"
      ]
    },
    {
      "metadata": {
        "id": "WRC9D2qbueKA",
        "colab_type": "code",
        "outputId": "af6e5b02-ae7c-4699-d8f5-e850d3e8456a",
        "colab": {
          "base_uri": "https://localhost:8080/",
          "height": 52
        }
      },
      "cell_type": "code",
      "source": [
        "scores = model.evaluate(x_val, y_test, verbose=0)\n",
        "print(\"%s: %.2f%%\" % (model.metrics_names[1], scores[1]*100))\n",
        "print(\"Loss:\" , scores[0])\n",
        "  "
      ],
      "execution_count": 0,
      "outputs": [
        {
          "output_type": "stream",
          "text": [
            "acc: 46.52%\n",
            "Loss: 1.5251559171676636\n"
          ],
          "name": "stdout"
        }
      ]
    },
    {
      "metadata": {
        "id": "Zmm-Sf6F1TGm",
        "colab_type": "text"
      },
      "cell_type": "markdown",
      "source": [
        "**VISUALIZING MODEL PERFORMANCE**"
      ]
    },
    {
      "metadata": {
        "id": "LFcyIUPX4VNO",
        "colab_type": "code",
        "colab": {}
      },
      "cell_type": "code",
      "source": [
        "def plot_modelacc(fit_model):\n",
        "    with p.style.context('ggplot'):\n",
        "            p.plot(fit_model.history['acc'])\n",
        "            p.plot(fit_model.history['val_acc'])\n",
        "            p.title(\"MODEL ACCURACY\")\n",
        "            p.xlabel(\"# of EPOCHS\")\n",
        "            p.ylabel(\"ACCURACY\")\n",
        "            p.legend(['train', 'test'], loc='upper left')\n",
        "    return p.show()"
      ],
      "execution_count": 0,
      "outputs": []
    },
    {
      "metadata": {
        "id": "Ko3cTECj4YR5",
        "colab_type": "code",
        "colab": {}
      },
      "cell_type": "code",
      "source": [
        "def plot_model_loss(fit_model):\n",
        "    with p.style.context('ggplot'):\n",
        "            p.plot(fit_model.history['loss'])\n",
        "            p.plot(fit_model.history['val_loss'])\n",
        "            p.title(\"MODEL LOSS\")\n",
        "            p.xlabel(\"# of EPOCHS\")\n",
        "            p.ylabel(\"LOSS\")\n",
        "            p.legend(['train', 'test'], loc='upper left')\n",
        "    return p.show()"
      ],
      "execution_count": 0,
      "outputs": []
    },
    {
      "metadata": {
        "id": "jMDn5Jgw4axZ",
        "colab_type": "code",
        "outputId": "4279ecef-9ecd-4e9b-cfee-494cc603339b",
        "colab": {
          "base_uri": "https://localhost:8080/",
          "height": 742
        }
      },
      "cell_type": "code",
      "source": [
        "plot_modelacc(fit_m)\n",
        "plot_model_loss(fit_m)"
      ],
      "execution_count": 0,
      "outputs": [
        {
          "output_type": "display_data",
          "data": {
            "image/png": "[encoded data removed]",
            "text/plain": [
              "<Figure size 576x396 with 1 Axes>"
            ]
          },
          "metadata": {
            "tags": []
          }
        },
        {
          "output_type": "display_data",
          "data": {
            "image/png": "[encoded data removed]",
            "text/plain": [
              "<Figure size 576x396 with 1 Axes>"
            ]
          },
          "metadata": {
            "tags": []
          }
        }
      ]
    }
  ]
}