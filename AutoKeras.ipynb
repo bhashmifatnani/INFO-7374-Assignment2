{
  "nbformat": 4,
  "nbformat_minor": 0,
  "metadata": {
    "colab": {
      "name": "AutoKeras.ipynb",
      "version": "0.3.2",
      "provenance": [],
      "collapsed_sections": []
    },
    "kernelspec": {
      "display_name": "Python 3",
      "language": "python",
      "name": "python3"
    }
  },
  "cells": [
    {
      "metadata": {
        "id": "zXdbXTSRw6W5",
        "colab_type": "text"
      },
      "cell_type": "markdown",
      "source": [
        "**IMPORTING REQUIRED LIBRARIES**"
      ]
    },
    {
      "metadata": {
        "id": "cyIFnYimw172",
        "colab_type": "code",
        "colab": {}
      },
      "cell_type": "code",
      "source": [
        "import numpy as np\n",
        "from keras.datasets import cifar10\n",
        "import cv2\n",
        "import keras as k\n",
        "from keras import models\n",
        "from matplotlib import pyplot as p\n",
        "from keras.preprocessing.image import ImageDataGenerator\n",
        "from keras.models import Sequential,Model\n",
        "from keras import optimizers\n",
        "from keras.layers import Dense, Dropout, Activation, Flatten,BatchNormalization\n",
        "from keras.layers import Conv2D, MaxPooling2D,GlobalAveragePooling2D\n",
        "from keras.applications.xception import Xception\n",
        "from keras.applications import VGG16\n",
        "import pandas as pd\n",
        "import os \n",
        "from PIL import Image\n",
        "from sklearn.metrics import accuracy_score\n",
        "import autokeras as ak\n",
        "from keras.utils import np_utils\n",
        "from ann_visualizer.visualize import ann_viz;"
      ],
      "execution_count": 0,
      "outputs": []
    },
    {
      "metadata": {
        "id": "EW0Nw00OxEKN",
        "colab_type": "text"
      },
      "cell_type": "markdown",
      "source": [
        "**LOADING AND PREPROCESSING IMAGE AS PER THE REQUIRED FORMAT**"
      ]
    },
    {
      "metadata": {
        "id": "m95wucTNw18b",
        "colab_type": "code",
        "colab": {}
      },
      "cell_type": "code",
      "source": [
        "\n",
        "def load_images(path,num_classes):\n",
        "    #Load images\n",
        "    \n",
        "    print('Loading ' + str(num_classes) + ' classes')\n",
        "\n",
        "    X_train=np.zeros([num_classes*500,32,32,3],dtype='uint8')\n",
        "    y_train=np.zeros([num_classes*500], dtype='uint8')\n",
        "\n",
        "    trainPath=path+'/train/train/bilinear'\n",
        "\n",
        "    print('loading training images...');\n",
        "\n",
        "    i=0\n",
        "    j=0\n",
        "    annotations={}\n",
        "    for sChild in os.listdir(trainPath):\n",
        "        sChildPath = os.path.join(os.path.join(trainPath,sChild),'images')\n",
        "        annotations[sChild]=j\n",
        "        for c in os.listdir(sChildPath):\n",
        "            X=np.array(Image.open(os.path.join(sChildPath,c)))\n",
        "            if len(np.shape(X))==2:\n",
        "                X_train[i]=np.array([X,X,X])\n",
        "            else:\n",
        "                X_train[i]=X\n",
        "            y_train[i]=j\n",
        "            i+=1\n",
        "        j+=1\n",
        "        if (j >= num_classes):\n",
        "            break\n",
        "\n",
        "    print('finished loading training images')\n",
        "\n",
        "    val_annotations_map = get_annotations_map()\n",
        "\n",
        "    X_test = np.zeros([num_classes*50,32,32,3],dtype='uint8')\n",
        "    y_test = np.zeros([num_classes*50], dtype='uint8')\n",
        "\n",
        "\n",
        "    print('loading test images...')\n",
        "\n",
        "    i = 0\n",
        "    testPath=path+'/val/val/bilinear/images'\n",
        "    for sChild in os.listdir(testPath):\n",
        "        if val_annotations_map[sChild] in annotations.keys():\n",
        "            sChildPath = os.path.join(testPath, sChild)\n",
        "            X=np.array(Image.open(sChildPath))\n",
        "            if len(np.shape(X))==2:\n",
        "                X_test[i]=np.array([X,X,X])\n",
        "            else:\n",
        "                X_test[i]=X\n",
        "            y_test[i]=annotations[val_annotations_map[sChild]]\n",
        "            i+=1\n",
        "        else:\n",
        "            pass\n",
        "\n",
        "\n",
        "    print('finished loading test images'+str(i))\n",
        "\n",
        "    return X_train,y_train,X_test,y_test"
      ],
      "execution_count": 0,
      "outputs": []
    },
    {
      "metadata": {
        "id": "e0WlGcJ0xKyR",
        "colab_type": "text"
      },
      "cell_type": "markdown",
      "source": [
        "**MAPPING TEST IMAGES WITH THEIR ANNOTATIONS FOR LABEL INFORMATION**"
      ]
    },
    {
      "metadata": {
        "id": "ft4DcIe6w18v",
        "colab_type": "code",
        "colab": {}
      },
      "cell_type": "code",
      "source": [
        "def get_annotations_map():\n",
        "\tvalAnnotationsPath = 'C:/Users/Abhishek/data/val/val/bilinear/val_annotations.txt'\n",
        "\tvalAnnotationsFile = open(valAnnotationsPath, 'r')\n",
        "\tvalAnnotationsContents = valAnnotationsFile.read()\n",
        "\tvalAnnotations = {}\n",
        "\n",
        "\tfor line in valAnnotationsContents.splitlines():\n",
        "\t\tpieces = line.strip().split()\n",
        "\t\tvalAnnotations[pieces[0]] = pieces[1]\n",
        "\n",
        "\treturn valAnnotations"
      ],
      "execution_count": 0,
      "outputs": []
    },
    {
      "metadata": {
        "id": "h_G6f1Sxw19F",
        "colab_type": "code",
        "colab": {},
        "outputId": "b1e698fe-b9e3-48bd-8903-3951f0a954a4"
      },
      "cell_type": "code",
      "source": [
        "path='C:/Users/Abhishek/data'\n",
        "x_train,y_train,x_test,y_test=load_images(path,200)"
      ],
      "execution_count": 0,
      "outputs": [
        {
          "output_type": "stream",
          "text": [
            "Loading 200 classes\n",
            "loading training images...\n",
            "finished loading training images\n",
            "loading test images...\n",
            "finished loading test images10000\n"
          ],
          "name": "stdout"
        }
      ]
    },
    {
      "metadata": {
        "id": "MpYMKDDLxUC_",
        "colab_type": "text"
      },
      "cell_type": "markdown",
      "source": [
        "**PREPROCESSING DATA**"
      ]
    },
    {
      "metadata": {
        "id": "pfEiZJ9rw19Y",
        "colab_type": "code",
        "colab": {},
        "outputId": "7959fd8c-c4b3-4d78-d3f0-1e02ba50d21b"
      },
      "cell_type": "code",
      "source": [
        "print('X_train shape:', x_train.shape)\n",
        "print(x_train.shape[0], 'train samples')\n",
        "print(x_test.shape[0], 'test samples')\n",
        "\n",
        "num_samples=len(x_train)\n",
        "\n",
        "# input image dimensions\n",
        "num_channels , img_rows, img_cols = x_train.shape[1], x_train.shape[2], x_train.shape[3]\n",
        "\n",
        "x_train = x_train.astype('float32')\n",
        "x_test = x_test.astype('float32')\n",
        "x_train /= 255\n",
        "x_test /= 255\n",
        "\n",
        "# convert class vectors to binary class matrices\n",
        "Y_train = np_utils.to_categorical(y_train, 200)\n",
        "Y_test = np_utils.to_categorical(y_test, 200)\n",
        "\n",
        "    "
      ],
      "execution_count": 0,
      "outputs": [
        {
          "output_type": "stream",
          "text": [
            "X_train shape: (100000, 32, 32, 3)\n",
            "100000 train samples\n",
            "10000 test samples\n"
          ],
          "name": "stdout"
        }
      ]
    },
    {
      "metadata": {
        "id": "COU2CZ8jxevt",
        "colab_type": "text"
      },
      "cell_type": "markdown",
      "source": [
        "**TRAINING MODEL WITH AUTOKERAS**\n",
        "\n",
        "\n",
        "\n",
        "*   Time limit chosen for best model: 10 hours\n",
        "\n",
        "\n"
      ]
    },
    {
      "metadata": {
        "id": "lfVzDxu0w19m",
        "colab_type": "code",
        "colab": {},
        "outputId": "da39cec5-ea70-42e0-9edf-24cd0bef2825"
      },
      "cell_type": "code",
      "source": [
        "clf = ak.ImageClassifier(verbose=True, augment=True)\n",
        "clf.fit(x_train, y_train, time_limit=(10*60*60))\n",
        "\n",
        "clf.final_fit(x_train, y_train, x_test, y_test, retrain=False)\n"
      ],
      "execution_count": 0,
      "outputs": [
        {
          "output_type": "stream",
          "text": [
            "Saving Directory: C:\\Users\\Abhishek\\AppData\\Local\\Temp\\autokeras_CEANP1\n",
            "Preprocessing the images.\n",
            "Preprocessing finished.\n",
            "\n",
            "Initializing search.\n",
            "Initialization finished.\n",
            "\n",
            "\n",
            "+----------------------------------------------+\n",
            "|               Training model 0               |\n",
            "+----------------------------------------------+\n",
            "\n",
            "Saving model.\n",
            "+--------------------------------------------------------------------------+\n",
            "|        Model ID        |          Loss          |      Metric Value      |\n",
            "+--------------------------------------------------------------------------+\n",
            "|           0            |   14.692697238922118   |         0.1856         |\n",
            "+--------------------------------------------------------------------------+\n",
            "\n",
            "\n",
            "+----------------------------------------------+\n",
            "|               Training model 1               |\n",
            "+----------------------------------------------+\n",
            "\n",
            "Saving model.\n",
            "+--------------------------------------------------------------------------+\n",
            "|        Model ID        |          Loss          |      Metric Value      |\n",
            "+--------------------------------------------------------------------------+\n",
            "|           1            |   10.461860084533692   |  0.42679999999999996   |\n",
            "+--------------------------------------------------------------------------+\n",
            "\n",
            "\n",
            "+----------------------------------------------+\n",
            "|               Training model 2               |\n",
            "+----------------------------------------------+\n",
            "\n",
            "Saving model.\n",
            "+--------------------------------------------------------------------------+\n",
            "|        Model ID        |          Loss          |      Metric Value      |\n",
            "+--------------------------------------------------------------------------+\n",
            "|           2            |   10.73284363746643    |         0.3912         |\n",
            "+--------------------------------------------------------------------------+\n",
            "\n",
            "\n",
            "+----------------------------------------------+\n",
            "|               Training model 3               |\n",
            "+----------------------------------------------+\n",
            "\n",
            "Saving model.\n",
            "+--------------------------------------------------------------------------+\n",
            "|        Model ID        |          Loss          |      Metric Value      |\n",
            "+--------------------------------------------------------------------------+\n",
            "|           3            |   10.103121995925903   |         0.4324         |\n",
            "+--------------------------------------------------------------------------+\n",
            "\n",
            "\n",
            "+----------------------------------------------+\n",
            "|               Training model 4               |\n",
            "+----------------------------------------------+\n",
            "\n",
            "Saving model.\n",
            "+--------------------------------------------------------------------------+\n",
            "|        Model ID        |          Loss          |      Metric Value      |\n",
            "+--------------------------------------------------------------------------+\n",
            "|           4            |   10.270633172988891   |  0.42519999999999997   |\n",
            "+--------------------------------------------------------------------------+\n",
            "\n",
            "\n",
            "+----------------------------------------------+\n",
            "|               Training model 5               |\n",
            "+----------------------------------------------+\n",
            "\n",
            "Saving model.\n",
            "+--------------------------------------------------------------------------+\n",
            "|        Model ID        |          Loss          |      Metric Value      |\n",
            "+--------------------------------------------------------------------------+\n",
            "|           5            |   10.34587903022766    |         0.4276         |\n",
            "+--------------------------------------------------------------------------+\n",
            "\n",
            "\n",
            "+----------------------------------------------+\n",
            "|               Training model 6               |\n",
            "+----------------------------------------------+\n",
            "\n",
            "Saving model.\n",
            "+--------------------------------------------------------------------------+\n",
            "|        Model ID        |          Loss          |      Metric Value      |\n",
            "+--------------------------------------------------------------------------+\n",
            "|           6            |   10.212290477752685   |         0.4344         |\n",
            "+--------------------------------------------------------------------------+\n",
            "\n",
            "\n",
            "+----------------------------------------------+\n",
            "|               Training model 7               |\n",
            "+----------------------------------------------+\n",
            "\n",
            "Saving model.\n",
            "+--------------------------------------------------------------------------+\n",
            "|        Model ID        |          Loss          |      Metric Value      |\n",
            "+--------------------------------------------------------------------------+\n",
            "|           7            |   10.175272703170776   |         0.4424         |\n",
            "+--------------------------------------------------------------------------+\n",
            "\n",
            "\n",
            "+----------------------------------------------+\n",
            "|               Training model 8               |\n",
            "+----------------------------------------------+\n",
            "Time is out.\n",
            "                                                                                                    \n",
            "No loss decrease after 30 epochs.\n",
            "\n",
            "0.4681\n"
          ],
          "name": "stdout"
        },
        {
          "output_type": "error",
          "ename": "NameError",
          "evalue": "name 'accuracy_score' is not defined",
          "traceback": [
            "\u001b[1;31m---------------------------------------------------------------------------\u001b[0m",
            "\u001b[1;31mNameError\u001b[0m                                 Traceback (most recent call last)",
            "\u001b[1;32m<ipython-input-8-3cdf7b6622dc>\u001b[0m in \u001b[0;36m<module>\u001b[1;34m\u001b[0m\n\u001b[0;32m     17\u001b[0m \u001b[1;31m# Manual predict\u001b[0m\u001b[1;33m\u001b[0m\u001b[1;33m\u001b[0m\u001b[1;33m\u001b[0m\u001b[0m\n\u001b[0;32m     18\u001b[0m \u001b[0my_prediction\u001b[0m \u001b[1;33m=\u001b[0m \u001b[0mclf\u001b[0m\u001b[1;33m.\u001b[0m\u001b[0mpredict\u001b[0m\u001b[1;33m(\u001b[0m\u001b[0mx_test\u001b[0m\u001b[1;33m)\u001b[0m\u001b[1;33m\u001b[0m\u001b[1;33m\u001b[0m\u001b[0m\n\u001b[1;32m---> 19\u001b[1;33m \u001b[0maccuracy_score\u001b[0m\u001b[1;33m(\u001b[0m\u001b[0my_true\u001b[0m\u001b[1;33m=\u001b[0m\u001b[0my_test\u001b[0m\u001b[1;33m,\u001b[0m \u001b[0my_pred\u001b[0m\u001b[1;33m=\u001b[0m\u001b[0my_prediction\u001b[0m\u001b[1;33m)\u001b[0m\u001b[1;33m\u001b[0m\u001b[1;33m\u001b[0m\u001b[0m\n\u001b[0m\u001b[0;32m     20\u001b[0m \u001b[1;31m#model = load_model('models/ak_keras_model_first_run_tinyimage.h5')\u001b[0m\u001b[1;33m\u001b[0m\u001b[1;33m\u001b[0m\u001b[1;33m\u001b[0m\u001b[0m\n\u001b[0;32m     21\u001b[0m \u001b[1;31m#SVG(model_to_dot(model).create(prog='dot', format='svg'))\u001b[0m\u001b[1;33m\u001b[0m\u001b[1;33m\u001b[0m\u001b[1;33m\u001b[0m\u001b[0m\n",
            "\u001b[1;31mNameError\u001b[0m: name 'accuracy_score' is not defined"
          ]
        }
      ]
    },
    {
      "metadata": {
        "id": "tzlGfRvuxz2r",
        "colab_type": "text"
      },
      "cell_type": "markdown",
      "source": [
        "**DIFFERENT WAYS OF EXPORTING THE BEST MODEL OBTAINED**"
      ]
    },
    {
      "metadata": {
        "id": "LEe4ymOYw1-I",
        "colab_type": "code",
        "colab": {}
      },
      "cell_type": "code",
      "source": [
        "model_final = clf.export_autokeras_model"
      ],
      "execution_count": 0,
      "outputs": []
    },
    {
      "metadata": {
        "id": "oxqVIx6_w1-V",
        "colab_type": "code",
        "colab": {},
        "outputId": "de1573b1-d090-4fb5-8729-66c97f2891a3"
      },
      "cell_type": "code",
      "source": [
        "model_final"
      ],
      "execution_count": 0,
      "outputs": [
        {
          "output_type": "execute_result",
          "data": {
            "text/plain": [
              "<bound method ImageClassifier.export_autokeras_model of <autokeras.image.image_supervised.ImageClassifier object at 0x000001CEBD102CF8>>"
            ]
          },
          "metadata": {
            "tags": []
          },
          "execution_count": 47
        }
      ]
    },
    {
      "metadata": {
        "id": "YjTwGbxmw1-7",
        "colab_type": "code",
        "colab": {}
      },
      "cell_type": "code",
      "source": [
        "model_keras = clf.export_keras_model"
      ],
      "execution_count": 0,
      "outputs": []
    },
    {
      "metadata": {
        "id": "8KsU81gdw1_K",
        "colab_type": "code",
        "colab": {},
        "outputId": "4b7123bc-cd37-4ab3-f732-e64df71d990c"
      },
      "cell_type": "code",
      "source": [
        "model_keras"
      ],
      "execution_count": 0,
      "outputs": [
        {
          "output_type": "stream",
          "text": [
            "<bound method DeepTaskSupervised.export_keras_model of <autokeras.image.image_supervised.ImageClassifier object at 0x000001CEBD102CF8>>\n"
          ],
          "name": "stdout"
        }
      ]
    },
    {
      "metadata": {
        "id": "R9m-YYJQw1_m",
        "colab_type": "code",
        "colab": {}
      },
      "cell_type": "code",
      "source": [
        "# save model and weights \n",
        "save_dir = os.path.join(os.getcwd(),'saved_models')\n",
        "model_name = 'autokeras_imgnet200_new.h5'\n"
      ],
      "execution_count": 0,
      "outputs": []
    },
    {
      "metadata": {
        "id": "iXZHZkA_x-wl",
        "colab_type": "text"
      },
      "cell_type": "markdown",
      "source": [
        "**MODEL TEST ACCURACY**"
      ]
    },
    {
      "metadata": {
        "id": "W6o2epgJw1_0",
        "colab_type": "code",
        "colab": {},
        "outputId": "c54dbc88-38c6-413a-f864-f2db4f5ed101"
      },
      "cell_type": "code",
      "source": [
        "pred = clf.evaluate(x_test,y_test)\n",
        "print(pred)\n",
        "# Manual predict\n",
        "y_prediction = clf.predict(x_test)\n",
        "accuracy_score(y_true=y_test, y_pred=y_prediction)"
      ],
      "execution_count": 0,
      "outputs": [
        {
          "output_type": "stream",
          "text": [
            "0.4681\n"
          ],
          "name": "stdout"
        },
        {
          "output_type": "execute_result",
          "data": {
            "text/plain": [
              "0.4681"
            ]
          },
          "metadata": {
            "tags": []
          },
          "execution_count": 10
        }
      ]
    },
    {
      "metadata": {
        "id": "KyCfNu1myc9V",
        "colab_type": "text"
      },
      "cell_type": "markdown",
      "source": [
        "**SOME EXTRA SAMPLES OF AUTOKERAS MODELS RUN WITH DIFFERENT TIME LIMITS**"
      ]
    },
    {
      "metadata": {
        "id": "9ku83IRWw2AE",
        "colab_type": "code",
        "colab": {},
        "outputId": "f8f932f3-4778-4e17-fb37-0900ebff6cc4"
      },
      "cell_type": "code",
      "source": [
        "clf_new = ak.ImageClassifier(verbose=True, augment=True)\n",
        "# Train for 9 hours\n",
        "clf_new.fit(x_train, y_train, time_limit=(9*60*60))\n",
        "clf_new.final_fit(x_train, y_train, x_test, y_test, retrain=False)\n",
        "\n"
      ],
      "execution_count": 0,
      "outputs": [
        {
          "output_type": "stream",
          "text": [
            "Saving Directory: C:\\Users\\Abhishek\\AppData\\Local\\Temp\\autokeras_KC9PDT\n",
            "Preprocessing the images.\n",
            "Preprocessing finished.\n",
            "\n",
            "Initializing search.\n",
            "Initialization finished.\n",
            "\n",
            "\n",
            "+----------------------------------------------+\n",
            "|               Training model 0               |\n",
            "+----------------------------------------------+\n",
            "\n",
            "Saving model.\n",
            "+--------------------------------------------------------------------------+\n",
            "|        Model ID        |          Loss          |      Metric Value      |\n",
            "+--------------------------------------------------------------------------+\n",
            "|           0            |   15.420692348480225   |  0.16440000000000002   |\n",
            "+--------------------------------------------------------------------------+\n",
            "\n",
            "\n",
            "+----------------------------------------------+\n",
            "|               Training model 1               |\n",
            "+----------------------------------------------+\n",
            "\n",
            "Saving model.\n",
            "+--------------------------------------------------------------------------+\n",
            "|        Model ID        |          Loss          |      Metric Value      |\n",
            "+--------------------------------------------------------------------------+\n",
            "|           1            |   10.434947538375855   |  0.44000000000000006   |\n",
            "+--------------------------------------------------------------------------+\n",
            "\n",
            "\n",
            "+----------------------------------------------+\n",
            "|               Training model 2               |\n",
            "+----------------------------------------------+\n",
            "\n",
            "Saving model.\n",
            "+--------------------------------------------------------------------------+\n",
            "|        Model ID        |          Loss          |      Metric Value      |\n",
            "+--------------------------------------------------------------------------+\n",
            "|           2            |   11.236166954040527   |  0.36879999999999996   |\n",
            "+--------------------------------------------------------------------------+\n",
            "\n",
            "\n",
            "+----------------------------------------------+\n",
            "|               Training model 3               |\n",
            "+----------------------------------------------+\n",
            "\n",
            "Saving model.\n",
            "+--------------------------------------------------------------------------+\n",
            "|        Model ID        |          Loss          |      Metric Value      |\n",
            "+--------------------------------------------------------------------------+\n",
            "|           3            |   10.642745113372802   |         0.4364         |\n",
            "+--------------------------------------------------------------------------+\n",
            "\n",
            "\n",
            "+----------------------------------------------+\n",
            "|               Training model 4               |\n",
            "+----------------------------------------------+\n",
            "\n",
            "Saving model.\n",
            "+--------------------------------------------------------------------------+\n",
            "|        Model ID        |          Loss          |      Metric Value      |\n",
            "+--------------------------------------------------------------------------+\n",
            "|           4            |   10.086801862716674   |  0.44639999999999996   |\n",
            "+--------------------------------------------------------------------------+\n",
            "\n",
            "\n",
            "+----------------------------------------------+\n",
            "|               Training model 5               |\n",
            "+----------------------------------------------+\n",
            "\n",
            "Saving model.\n",
            "+--------------------------------------------------------------------------+\n",
            "|        Model ID        |          Loss          |      Metric Value      |\n",
            "+--------------------------------------------------------------------------+\n",
            "|           5            |   10.459773588180543   |         0.4344         |\n",
            "+--------------------------------------------------------------------------+\n",
            "\n",
            "\n",
            "+----------------------------------------------+\n",
            "|               Training model 6               |\n",
            "+----------------------------------------------+\n",
            "\n",
            "Saving model.\n",
            "+--------------------------------------------------------------------------+\n",
            "|        Model ID        |          Loss          |      Metric Value      |\n",
            "+--------------------------------------------------------------------------+\n",
            "|           6            |   10.857631158828735   |         0.4436         |\n",
            "+--------------------------------------------------------------------------+\n",
            "\n",
            "\n",
            "+----------------------------------------------+\n",
            "|               Training model 7               |\n",
            "+----------------------------------------------+\n",
            "\n",
            "Saving model.\n",
            "+--------------------------------------------------------------------------+\n",
            "|        Model ID        |          Loss          |      Metric Value      |\n",
            "+--------------------------------------------------------------------------+\n",
            "|           7            |   10.46904616355896    |         0.4532         |\n",
            "+--------------------------------------------------------------------------+\n",
            "\n",
            "\n",
            "+----------------------------------------------+\n",
            "|               Training model 8               |\n",
            "+----------------------------------------------+\n",
            "Time is out.\n",
            "                                                                                                    \n",
            "No loss decrease after 30 epochs.\n",
            "\n"
          ],
          "name": "stdout"
        }
      ]
    },
    {
      "metadata": {
        "id": "chr9CLnGw2AR",
        "colab_type": "code",
        "colab": {}
      },
      "cell_type": "code",
      "source": [
        "clf_new.export_autokeras_model('C:\\\\Users\\\\Abhishek\\\\autokeras_models')"
      ],
      "execution_count": 0,
      "outputs": []
    },
    {
      "metadata": {
        "id": "lrEoo6ufw2Ad",
        "colab_type": "code",
        "colab": {},
        "outputId": "8169036b-7f1c-4c91-d2b4-ca323111c033"
      },
      "cell_type": "code",
      "source": [
        "import os\n",
        "from graphviz import Digraph\n",
        "\n",
        "from autokeras.utils import pickle_from_file\n",
        "\n",
        "\n",
        "def to_pdf(graph, path):\n",
        "    dot = Digraph(comment='The Round Table')\n",
        "\n",
        "    for index, node in enumerate(graph.node_list):\n",
        "        dot.node(str(index), str(node.shape))\n",
        "\n",
        "    for u in range(graph.n_nodes):\n",
        "        for v, layer_id in graph.adj_list[u]:\n",
        "            dot.edge(str(u), str(v), str(graph.layer_list[layer_id]))\n",
        "\n",
        "    dot.render(path)"
      ],
      "execution_count": 0,
      "outputs": [
        {
          "output_type": "stream",
          "text": [
            "Using TensorFlow backend.\n"
          ],
          "name": "stderr"
        }
      ]
    },
    {
      "metadata": {
        "id": "NewnfLzhw2Aq",
        "colab_type": "code",
        "colab": {}
      },
      "cell_type": "code",
      "source": [
        "def visualize(path):\n",
        "    cnn_module = pickle_from_file(os.path.join(path, 'module'))\n",
        "    cnn_module.searcher.path = path\n",
        "    for item in cnn_module.searcher.history:\n",
        "        model_id = item['model_id']\n",
        "        graph = cnn_module.searcher.load_model_by_id(model_id)\n",
        "        to_pdf(graph, os.path.join(path, str(model_id)))\n"
      ],
      "execution_count": 0,
      "outputs": []
    },
    {
      "metadata": {
        "id": "VxjRU13pw2Bo",
        "colab_type": "code",
        "colab": {},
        "outputId": "364d22ea-d700-477c-eaf5-8637c289af18"
      },
      "cell_type": "code",
      "source": [
        "clf_final= ak.ImageClassifier(path='C:\\\\Users\\\\Abhishek\\\\AutoKeras_visualization',verbose=True, augment=True)\n",
        "# Train for 15 hours\n",
        "clf_final.fit(x_train, y_train, time_limit=(15*60*60))\n",
        "\n",
        "clf_final.final_fit(x_train, y_train, x_test, y_test, retrain=False)\n",
        "\n"
      ],
      "execution_count": 0,
      "outputs": [
        {
          "output_type": "stream",
          "text": [
            "Saving Directory: C:\\Users\\Abhishek\\AutoKeras_visualization\n",
            "Preprocessing the images.\n",
            "Preprocessing finished.\n",
            "\n",
            "Initializing search.\n",
            "Initialization finished.\n",
            "\n",
            "\n",
            "+----------------------------------------------+\n",
            "|               Training model 0               |\n",
            "+----------------------------------------------+\n",
            "\n",
            "Saving model.\n",
            "+--------------------------------------------------------------------------+\n",
            "|        Model ID        |          Loss          |      Metric Value      |\n",
            "+--------------------------------------------------------------------------+\n",
            "|           0            |   15.470404291152954   |  0.16560000000000002   |\n",
            "+--------------------------------------------------------------------------+\n",
            "\n",
            "\n",
            "+----------------------------------------------+\n",
            "|               Training model 1               |\n",
            "+----------------------------------------------+\n",
            "\n",
            "Saving model.\n",
            "+--------------------------------------------------------------------------+\n",
            "|        Model ID        |          Loss          |      Metric Value      |\n",
            "+--------------------------------------------------------------------------+\n",
            "|           1            |   10.395859670639037   |         0.4396         |\n",
            "+--------------------------------------------------------------------------+\n",
            "\n",
            "\n",
            "+----------------------------------------------+\n",
            "|               Training model 2               |\n",
            "+----------------------------------------------+\n",
            "\n",
            "Saving model.\n",
            "+--------------------------------------------------------------------------+\n",
            "|        Model ID        |          Loss          |      Metric Value      |\n",
            "+--------------------------------------------------------------------------+\n",
            "|           2            |   10.928670978546142   |         0.3816         |\n",
            "+--------------------------------------------------------------------------+\n",
            "\n",
            "\n",
            "+----------------------------------------------+\n",
            "|               Training model 3               |\n",
            "+----------------------------------------------+\n",
            "\n",
            "Saving model.\n",
            "+--------------------------------------------------------------------------+\n",
            "|        Model ID        |          Loss          |      Metric Value      |\n",
            "+--------------------------------------------------------------------------+\n",
            "|           3            |   10.562097215652466   |         0.4304         |\n",
            "+--------------------------------------------------------------------------+\n",
            "\n",
            "\n",
            "+----------------------------------------------+\n",
            "|               Training model 4               |\n",
            "+----------------------------------------------+\n",
            "Time is out.\n",
            "                                                                                                    \n",
            "No loss decrease after 30 epochs.\n",
            "\n"
          ],
          "name": "stdout"
        }
      ]
    },
    {
      "metadata": {
        "id": "_EwkSAqsypl8",
        "colab_type": "text"
      },
      "cell_type": "markdown",
      "source": [
        "**FINAL CONCLUSIONS**\n",
        "\n",
        "\n",
        "*   Model that ran for 10 hours seems to give the maximum accuracy.\n",
        "*   It is not a feasible solution to run a model for 24 hours inorder to get an optimal model. \n",
        "*   When compared with task 1 of fine tuning model manually, autokeras seems to perform better and also saves time from trial and error.\n",
        "\n",
        "\n",
        "\n"
      ]
    }
  ]
}
